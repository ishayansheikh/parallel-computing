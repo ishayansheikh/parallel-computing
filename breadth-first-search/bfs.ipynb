{
  "nbformat": 4,
  "nbformat_minor": 0,
  "metadata": {
    "colab": {
      "name": "bfs.ipynb",
      "provenance": [],
      "collapsed_sections": []
    },
    "kernelspec": {
      "name": "python3",
      "display_name": "Python 3"
    }
  },
  "cells": [
    {
      "cell_type": "code",
      "metadata": {
        "id": "fx8iTMsGYtvb",
        "outputId": "8960a976-37e6-475c-d9d5-84ab81dd3fbd",
        "colab": {
          "base_uri": "https://localhost:8080/"
        }
      },
      "source": [
        "%%writefile sequential.c\n",
        "#include <stdio.h>\n",
        "#include <stdlib.h>\n",
        "#include <time.h>\n",
        "\n",
        "// method to read the first, second and fourth input files\n",
        "int read_input_one_two_four(int** input, char* filepath) {\n",
        "    FILE* fp = fopen(filepath, \"r\");\n",
        "    if (!fp) return fprintf(stderr, \"Couldn't open file for reading\\n\");\n",
        "\n",
        "    int file_length;\n",
        "    fscanf(fp, \"%d\", &file_length);\n",
        "    *input = (int*) malloc(file_length * sizeof(int));\n",
        "\n",
        "    int next_int;\n",
        "\n",
        "    for (int i = 0; i < file_length; i++) {\n",
        "        fscanf(fp, \"%d\", &next_int);\n",
        "        (*input)[i] = next_int;\n",
        "    }\n",
        "\n",
        "    fclose(fp);\n",
        "    return file_length;\n",
        "}\n",
        "\n",
        "// method to read the third input file\n",
        "int read_input_three(int** input1, int** input2, int** input3, int** input4, char* filepath) {\n",
        "    FILE* fp = fopen(filepath, \"r\");\n",
        "    if (!fp) return fprintf(stderr, \"Couldn't open file for reading\\n\");\n",
        "\n",
        "    int file_length;\n",
        "    fscanf(fp, \"%d\", &file_length);\n",
        "\n",
        "    *input1 = (int*) malloc(file_length * sizeof(int));\n",
        "    *input2 = (int*) malloc(file_length * sizeof(int));\n",
        "    *input3 = (int*) malloc(file_length * sizeof(int));\n",
        "    *input4 = (int*) malloc(file_length * sizeof(int));\n",
        "\n",
        "    int next_int1;\n",
        "    int next_int2;\n",
        "    int next_int3;\n",
        "    int next_int4;\n",
        "\n",
        "    for (int i = 0; i < file_length; i++) {\n",
        "        fscanf(fp, \"%d, %d, %d, %d\", &next_int1, &next_int2, &next_int3, &next_int4);\n",
        "        (*input1)[i] = next_int1;\n",
        "        (*input2)[i] = next_int2;\n",
        "        (*input3)[i] = next_int3;\n",
        "        (*input4)[i] = next_int4;\n",
        "    }\n",
        "\n",
        "    fclose(fp);\n",
        "    return file_length;\n",
        "\n",
        "}\n",
        "\n",
        "int gate_solver(int node_gate, int node_output, int node_input) {\n",
        "    switch (node_gate) {\n",
        "        case 0:\n",
        "            if (node_output == 1 && node_input == 1) return 1;\n",
        "            return 0;\n",
        "        case 1:\n",
        "            if (node_output == 0 && node_input == 0) return 0;\n",
        "            return 1;\n",
        "        case 2:\n",
        "            if (node_output == 1 && node_input == 1) return 0;\n",
        "            return 1;\n",
        "        case 3:\n",
        "            if (node_output == 0 && node_input == 0) return 1;\n",
        "            return 0;\n",
        "        case 4:\n",
        "            if (node_output == node_input) return 0;\n",
        "            return 1;\n",
        "        case 5:\n",
        "            if (node_output == node_input) return 1;\n",
        "            return 0;               \n",
        "    }  \n",
        "}\n",
        "\n",
        "int main(int argc, char* argv[]) {  \n",
        "    if (argc < 7) {\n",
        "        return fprintf(stderr, \"Missing input argument(s)!\\n\");\n",
        "    }\n",
        "\n",
        "    // get input file paths from command line\n",
        "    char* input1 = argv[1];\n",
        "    char* input2 = argv[2];\n",
        "    char* input3 = argv[3];\n",
        "    char* input4 = argv[4];\n",
        "    char* output1 = argv[5];\n",
        "    char* output2 = argv[6];\n",
        "\n",
        "    // variables\n",
        "    int num_node_ptrs;\n",
        "    int num_nodes;\n",
        "    int* node_ptrs;\n",
        "    int* node_neighbors;\n",
        "    int* node_visited;\n",
        "    int num_total_teighbors;\n",
        "    int* curr_level_nodes;\n",
        "    int num_curr_level_nodes;\n",
        "    int num_next_level_nodes = 0;\n",
        "    int* node_gate;\n",
        "    int* node_input;\n",
        "    int* node_output;\n",
        "\n",
        "    num_node_ptrs = read_input_one_two_four(&node_ptrs, input1);\n",
        "    num_total_teighbors = read_input_one_two_four(&node_neighbors, input2);\n",
        "    num_nodes = read_input_three(&node_visited, &node_gate, &node_input, &node_output, input3);\n",
        "    num_curr_level_nodes = read_input_one_two_four(&curr_level_nodes, input4);\n",
        "\n",
        "    // output\n",
        "    int* next_level_nodes = (int*) malloc(num_nodes * sizeof(int));\n",
        "\n",
        "    clock_t start = clock();\n",
        "\n",
        "    // loop over all nodes in the current level\n",
        "    for (int i = 0; i < num_curr_level_nodes; i++) {\n",
        "        int node = curr_level_nodes[i];\n",
        "        //loop over all neighbors of the node\n",
        "        for (int j = node_ptrs[node]; j < node_ptrs[node+1]; j++) {\n",
        "            int neighbor = node_neighbors[j];\n",
        "            // if the neighbor hasn't been visited yet\n",
        "            if (!node_visited[neighbor]) {\n",
        "                // mark it and add it to the queue\n",
        "                node_visited[neighbor] = 1;\n",
        "                node_output[neighbor] = gate_solver(node_gate[neighbor], node_output[node], node_input[neighbor]);\n",
        "                next_level_nodes[num_next_level_nodes] = neighbor;\n",
        "                ++num_next_level_nodes;\n",
        "            }\n",
        "        }\n",
        "    }\n",
        "\n",
        "    clock_t end = clock();\n",
        "\n",
        "    FILE* node_output_file = fopen(output1, \"w\");\n",
        "    FILE* next_level_nodes_file = fopen(output2, \"w\");\n",
        "\n",
        "    if(!node_output_file || !next_level_nodes_file) return fprintf(stderr, \"Error opening the output files!\");\n",
        "\n",
        "    // write the length of the files\n",
        "    fprintf(node_output_file, \"%d\\n\", num_nodes);\n",
        "    fprintf(next_level_nodes_file, \"%d\\n\", num_next_level_nodes);\n",
        "\n",
        "    for (int i = 0; i < num_nodes; i++) {\n",
        "        fprintf(node_output_file, \"%d\\n\", node_output[i]);\n",
        "    }\n",
        "\n",
        "    for (int i = 0; i < num_next_level_nodes; i++) {\n",
        "        fprintf(next_level_nodes_file, \"%d\\n\", next_level_nodes[i]);\n",
        "    }\n",
        "\n",
        "    double runtime = (double) (end - start) / CLOCKS_PER_SEC * 1000;\n",
        "    printf(\"Execution time: %f ms\\n\", runtime);\n",
        "\n",
        "    return 0;\n",
        "}"
      ],
      "execution_count": 47,
      "outputs": [
        {
          "output_type": "stream",
          "text": [
            "Overwriting sequential.c\n"
          ],
          "name": "stdout"
        }
      ]
    },
    {
      "cell_type": "code",
      "metadata": {
        "id": "WP7OqbUHc4mM",
        "outputId": "9b4a7528-e22a-499c-b22a-d9bf3fd9380a",
        "colab": {
          "base_uri": "https://localhost:8080/"
        }
      },
      "source": [
        "!gcc sequential.c -o sequential\n",
        "!./sequential input1.raw input2.raw input3.raw input4.raw output1.raw output2.raw"
      ],
      "execution_count": 48,
      "outputs": [
        {
          "output_type": "stream",
          "text": [
            "Execution time: 2.850000 ms\n"
          ],
          "name": "stdout"
        }
      ]
    },
    {
      "cell_type": "code",
      "metadata": {
        "id": "amGoxsFSVRGN"
      },
      "source": [
        "!gcc compareNodeOutput.c -o compareNodeOutput\n",
        "!gcc compareNextLevelNodes.c -o compareNextLevelNodes"
      ],
      "execution_count": 49,
      "outputs": []
    },
    {
      "cell_type": "code",
      "metadata": {
        "id": "zbzz1FfAVXAu",
        "outputId": "d3b86af6-18e7-4da6-c175-a7786779688b",
        "colab": {
          "base_uri": "https://localhost:8080/"
        }
      },
      "source": [
        "!./compareNodeOutput output1.raw sol_nodeOutput.raw\n",
        "!./compareNextLevelNodes output2.raw sol_nextLevelNodes.raw"
      ],
      "execution_count": 50,
      "outputs": [
        {
          "output_type": "stream",
          "text": [
            "Total Errors : 0\tNo errors!\n"
          ],
          "name": "stdout"
        }
      ]
    }
  ]
}